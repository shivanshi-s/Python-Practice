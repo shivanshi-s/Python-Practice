{
 "cells": [
  {
   "cell_type": "code",
   "execution_count": 17,
   "id": "e05808b6",
   "metadata": {},
   "outputs": [],
   "source": [
    "my_list = [1,2,3]"
   ]
  },
  {
   "cell_type": "markdown",
   "id": "47b77a5a",
   "metadata": {},
   "source": [
    "Lists in Pythonnnnnnn--------------------------"
   ]
  },
  {
   "cell_type": "code",
   "execution_count": 3,
   "id": "390a699b",
   "metadata": {},
   "outputs": [],
   "source": [
    "my_list = ['str',1.24]"
   ]
  },
  {
   "cell_type": "code",
   "execution_count": 5,
   "id": "b94078ef",
   "metadata": {},
   "outputs": [
    {
     "data": {
      "text/plain": [
       "2"
      ]
     },
     "execution_count": 5,
     "metadata": {},
     "output_type": "execute_result"
    }
   ],
   "source": [
    "len(my_list)"
   ]
  },
  {
   "cell_type": "code",
   "execution_count": 6,
   "id": "d35f0d3a",
   "metadata": {},
   "outputs": [],
   "source": [
    "my_list = ['one', 'two', 'three']"
   ]
  },
  {
   "cell_type": "code",
   "execution_count": 8,
   "id": "9b5b1c95",
   "metadata": {},
   "outputs": [
    {
     "data": {
      "text/plain": [
       "'one'"
      ]
     },
     "execution_count": 8,
     "metadata": {},
     "output_type": "execute_result"
    }
   ],
   "source": [
    "my_list[0]"
   ]
  },
  {
   "cell_type": "code",
   "execution_count": 10,
   "id": "9abf60a4",
   "metadata": {},
   "outputs": [
    {
     "data": {
      "text/plain": [
       "['two', 'three']"
      ]
     },
     "execution_count": 10,
     "metadata": {},
     "output_type": "execute_result"
    }
   ],
   "source": [
    "my_list[1:]"
   ]
  },
  {
   "cell_type": "code",
   "execution_count": 11,
   "id": "ac7830f6",
   "metadata": {},
   "outputs": [],
   "source": [
    "anotherlist = ['four','five']"
   ]
  },
  {
   "cell_type": "code",
   "execution_count": 16,
   "id": "eed62b05",
   "metadata": {},
   "outputs": [],
   "source": [
    "new_list = my_list + anotherlist"
   ]
  },
  {
   "cell_type": "code",
   "execution_count": 19,
   "id": "3cd9ac4c",
   "metadata": {},
   "outputs": [],
   "source": [
    "new_list[0] = 'ONE NEW'  #changed the list item "
   ]
  },
  {
   "cell_type": "code",
   "execution_count": 21,
   "id": "f590bb54",
   "metadata": {},
   "outputs": [
    {
     "data": {
      "text/plain": [
       "['ONE NEW', 'two', 'three', 'four', 'five']"
      ]
     },
     "execution_count": 21,
     "metadata": {},
     "output_type": "execute_result"
    }
   ],
   "source": [
    "new_list"
   ]
  },
  {
   "cell_type": "code",
   "execution_count": 22,
   "id": "d8fd4616",
   "metadata": {},
   "outputs": [],
   "source": [
    "new_list.append('six')   #adding at the end of the list "
   ]
  },
  {
   "cell_type": "code",
   "execution_count": 24,
   "id": "0d022a50",
   "metadata": {},
   "outputs": [
    {
     "data": {
      "text/plain": [
       "['ONE NEW', 'two', 'three', 'four', 'five', 'six']"
      ]
     },
     "execution_count": 24,
     "metadata": {},
     "output_type": "execute_result"
    }
   ],
   "source": [
    "new_list"
   ]
  },
  {
   "cell_type": "code",
   "execution_count": 25,
   "id": "65402dbb",
   "metadata": {},
   "outputs": [
    {
     "data": {
      "text/plain": [
       "'six'"
      ]
     },
     "execution_count": 25,
     "metadata": {},
     "output_type": "execute_result"
    }
   ],
   "source": [
    "new_list.pop()"
   ]
  },
  {
   "cell_type": "code",
   "execution_count": 27,
   "id": "5292e6a2",
   "metadata": {},
   "outputs": [
    {
     "data": {
      "text/plain": [
       "['ONE NEW', 'two', 'three', 'four', 'five']"
      ]
     },
     "execution_count": 27,
     "metadata": {},
     "output_type": "execute_result"
    }
   ],
   "source": [
    "new_list"
   ]
  },
  {
   "cell_type": "code",
   "execution_count": 34,
   "id": "19047b6d",
   "metadata": {},
   "outputs": [],
   "source": [
    "making_list = ['c','a','d','1']"
   ]
  },
  {
   "cell_type": "code",
   "execution_count": 35,
   "id": "bbf4f8aa",
   "metadata": {},
   "outputs": [],
   "source": [
    "making_list.sort() #does not return anything"
   ]
  },
  {
   "cell_type": "code",
   "execution_count": 36,
   "id": "fc87ef37",
   "metadata": {},
   "outputs": [
    {
     "data": {
      "text/plain": [
       "['1', 'a', 'c', 'd']"
      ]
     },
     "execution_count": 36,
     "metadata": {},
     "output_type": "execute_result"
    }
   ],
   "source": [
    "making_list"
   ]
  },
  {
   "cell_type": "code",
   "execution_count": 39,
   "id": "d852334f",
   "metadata": {},
   "outputs": [
    {
     "name": "stdout",
     "output_type": "stream",
     "text": [
      "count is :  1\n",
      "count is :  2\n",
      "count is :  3\n",
      "count is :  4\n",
      "count is :  5\n",
      "count is :  6\n"
     ]
    }
   ],
   "source": [
    "count = 0\n",
    "for intervar in [2,3,4,5,6,7] : \n",
    "    count = count +1\n",
    "    print('count is : ', count)"
   ]
  },
  {
   "cell_type": "code",
   "execution_count": 43,
   "id": "6615eb97",
   "metadata": {},
   "outputs": [
    {
     "name": "stdout",
     "output_type": "stream",
     "text": [
      "total :  55\n"
     ]
    }
   ],
   "source": [
    "total = 0\n",
    "for intervar in [1,2,3,4,5,6,7,8,9,10] : \n",
    "    total = total + intervar  #total is an accumulator because it accumulates the sum of elements \n",
    "print('total : ', total)"
   ]
  },
  {
   "cell_type": "markdown",
   "id": "e370d5ad",
   "metadata": {},
   "source": [
    "Maximum and Minimum Loops\n"
   ]
  },
  {
   "cell_type": "code",
   "execution_count": 47,
   "id": "f34bf6f8",
   "metadata": {},
   "outputs": [
    {
     "name": "stdout",
     "output_type": "stream",
     "text": [
      "Before :  None\n",
      "In loop condition check :  2 2\n",
      "In loop condition check :  5 5\n",
      "In loop condition check :  68 68\n",
      "In loop condition check :  68 43\n",
      "In loop condition check :  68 11\n",
      "In loop condition check :  68 45\n",
      "Largest no found is :  68\n"
     ]
    }
   ],
   "source": [
    "largest = None\n",
    "print('Before : ', largest)\n",
    "for i in [2,5,68,43,11,45] : \n",
    "    if largest is None or i > largest :\n",
    "        largest = i\n",
    "    print('In loop condition check : ',largest,i)\n",
    "print('Largest no found is : ',largest)"
   ]
  },
  {
   "cell_type": "code",
   "execution_count": 54,
   "id": "dac42275",
   "metadata": {},
   "outputs": [
    {
     "name": "stdout",
     "output_type": "stream",
     "text": [
      "Enter a number : 0\n",
      "Enter a number : 1\n",
      "Enter a number : 2\n",
      "Enter a number : done\n",
      "done : total is -  3.0  Numbers entered -   3\n"
     ]
    }
   ],
   "source": [
    "num = 0 \n",
    "total = 0.0\n",
    "while True : \n",
    "        number = input(\"Enter a number : \")\n",
    "        if number == 'done' :\n",
    "            break\n",
    "        try:\n",
    "             num1 = float(number)\n",
    "        except:\n",
    "            print('Invalid')\n",
    "            continue\n",
    "        num = num + 1\n",
    "        total = total + num1\n",
    "print(\"done : total is - \",total,\" Numbers entered -  \", num)"
   ]
  },
  {
   "cell_type": "code",
   "execution_count": null,
   "id": "b85ed970",
   "metadata": {},
   "outputs": [],
   "source": []
  },
  {
   "cell_type": "code",
   "execution_count": null,
   "id": "74d23ab4",
   "metadata": {},
   "outputs": [],
   "source": []
  }
 ],
 "metadata": {
  "kernelspec": {
   "display_name": "Python 3",
   "language": "python",
   "name": "python3"
  },
  "language_info": {
   "codemirror_mode": {
    "name": "ipython",
    "version": 3
   },
   "file_extension": ".py",
   "mimetype": "text/x-python",
   "name": "python",
   "nbconvert_exporter": "python",
   "pygments_lexer": "ipython3",
   "version": "3.8.8"
  }
 },
 "nbformat": 4,
 "nbformat_minor": 5
}
