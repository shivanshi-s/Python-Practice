{
 "cells": [
  {
   "cell_type": "code",
   "execution_count": 2,
   "id": "370e4e86",
   "metadata": {},
   "outputs": [],
   "source": [
    "camels = 42"
   ]
  },
  {
   "cell_type": "code",
   "execution_count": 4,
   "id": "7e98ed7e",
   "metadata": {},
   "outputs": [
    {
     "data": {
      "text/plain": [
       "'I have spotted 42 camels.'"
      ]
     },
     "execution_count": 4,
     "metadata": {},
     "output_type": "execute_result"
    }
   ],
   "source": [
    "'I have spotted %d camels.' % camels"
   ]
  },
  {
   "cell_type": "code",
   "execution_count": 7,
   "id": "bf33f760",
   "metadata": {},
   "outputs": [
    {
     "data": {
      "text/plain": [
       "'In 4 years I have spotted 0.2 camels.'"
      ]
     },
     "execution_count": 7,
     "metadata": {},
     "output_type": "execute_result"
    }
   ],
   "source": [
    "'In %d years I have spotted %g %s.' %(4,0.2,'camels')"
   ]
  },
  {
   "cell_type": "markdown",
   "id": "4af2ab14",
   "metadata": {},
   "source": [
    "Take the following Python code that stores a string:\n",
    "str = 'X-DSPAM-Confidence:0.8475'\n",
    "Use find and string slicing to extract the portion of the string after the\n",
    "colon character and then use the float function to convert the extracted\n",
    "string into a floating point number."
   ]
  },
  {
   "cell_type": "code",
   "execution_count": 9,
   "id": "ad02d555",
   "metadata": {},
   "outputs": [],
   "source": [
    "str = 'X-DSPAM-Confidence:0.8475'"
   ]
  },
  {
   "cell_type": "code",
   "execution_count": 15,
   "id": "91f755d7",
   "metadata": {},
   "outputs": [],
   "source": [
    "finding = str.find(':')"
   ]
  },
  {
   "cell_type": "code",
   "execution_count": 23,
   "id": "8cf69fbf",
   "metadata": {},
   "outputs": [
    {
     "name": "stdout",
     "output_type": "stream",
     "text": [
      "0.8475\n"
     ]
    }
   ],
   "source": [
    "store = str[finding+1:]\n",
    "print(store)"
   ]
  },
  {
   "cell_type": "code",
   "execution_count": 18,
   "id": "007127e8",
   "metadata": {},
   "outputs": [],
   "source": [
    "number = float(store)"
   ]
  },
  {
   "cell_type": "code",
   "execution_count": 20,
   "id": "589206b3",
   "metadata": {},
   "outputs": [
    {
     "name": "stdout",
     "output_type": "stream",
     "text": [
      "0.8475\n"
     ]
    }
   ],
   "source": [
    "print(number)"
   ]
  }
 ],
 "metadata": {
  "kernelspec": {
   "display_name": "Python 3",
   "language": "python",
   "name": "python3"
  },
  "language_info": {
   "codemirror_mode": {
    "name": "ipython",
    "version": 3
   },
   "file_extension": ".py",
   "mimetype": "text/x-python",
   "name": "python",
   "nbconvert_exporter": "python",
   "pygments_lexer": "ipython3",
   "version": "3.8.8"
  }
 },
 "nbformat": 4,
 "nbformat_minor": 5
}
