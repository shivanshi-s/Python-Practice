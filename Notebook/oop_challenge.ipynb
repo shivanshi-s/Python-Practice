{
 "cells": [
  {
   "cell_type": "code",
   "execution_count": null,
   "metadata": {},
   "outputs": [],
   "source": [
    "# create a bank account class that has 2 attributes: \n",
    "# owner and balance and 2 methods : deposite and withdraw\n",
    "# withdrawals amy not exceed available balance."
   ]
  },
  {
   "cell_type": "code",
   "execution_count": 1,
   "metadata": {},
   "outputs": [],
   "source": [
    "class account():\n",
    "   def __init__(self,owner,balance):\n",
    "      self.owner = owner\n",
    "      self.balance = balance\n",
    "   \n",
    "   def deopsit(self,amt):\n",
    "      self.balance += amt\n",
    "      print(f\"{amt} has been added. updated bal : {self.balance}\")\n",
    "   \n",
    "   def withdraw(self,wdamt):\n",
    "      if self.balance >= wdamt:\n",
    "         self.balance = self.balance - wdamt\n",
    "         print(\"Withdrawal req accepted\")\n",
    "      else:\n",
    "         print(\"Sorry, the withdraw amt exceeds the current balance.\")\n",
    "   \n",
    "   def __str__(self):\n",
    "      return f\"Owner: {self.owner} \\n Balance: {self.balance}\"\n"
   ]
  },
  {
   "cell_type": "code",
   "execution_count": 2,
   "metadata": {},
   "outputs": [],
   "source": [
    "sam  = account(\"sam\",1000)"
   ]
  },
  {
   "cell_type": "code",
   "execution_count": 3,
   "metadata": {},
   "outputs": [
    {
     "data": {
      "text/plain": [
       "1000"
      ]
     },
     "execution_count": 3,
     "metadata": {},
     "output_type": "execute_result"
    }
   ],
   "source": [
    "sam.balance"
   ]
  },
  {
   "cell_type": "code",
   "execution_count": 4,
   "metadata": {},
   "outputs": [
    {
     "data": {
      "text/plain": [
       "'sam'"
      ]
     },
     "execution_count": 4,
     "metadata": {},
     "output_type": "execute_result"
    }
   ],
   "source": [
    "sam.owner"
   ]
  },
  {
   "cell_type": "code",
   "execution_count": 5,
   "metadata": {},
   "outputs": [
    {
     "name": "stdout",
     "output_type": "stream",
     "text": [
      "300 has been added. updated bal : 1300\n"
     ]
    }
   ],
   "source": [
    "sam.deopsit(300)"
   ]
  },
  {
   "cell_type": "code",
   "execution_count": 7,
   "metadata": {},
   "outputs": [
    {
     "name": "stdout",
     "output_type": "stream",
     "text": [
      "Sorry, the withdraw amt exceeds the current balance.\n"
     ]
    }
   ],
   "source": [
    "sam.withdraw(1400)"
   ]
  },
  {
   "cell_type": "code",
   "execution_count": 8,
   "metadata": {},
   "outputs": [
    {
     "name": "stdout",
     "output_type": "stream",
     "text": [
      "Withdrawal req accepted\n"
     ]
    }
   ],
   "source": [
    "sam.withdraw(1000)"
   ]
  },
  {
   "cell_type": "code",
   "execution_count": 9,
   "metadata": {},
   "outputs": [
    {
     "name": "stdout",
     "output_type": "stream",
     "text": [
      "Owner: sam \n",
      " Balance: 300\n"
     ]
    }
   ],
   "source": [
    "print(sam)"
   ]
  },
  {
   "cell_type": "code",
   "execution_count": null,
   "metadata": {},
   "outputs": [],
   "source": []
  }
 ],
 "metadata": {
  "interpreter": {
   "hash": "6bea1d8ff66504a0e6b074007282c7755a91039a5750500feedce32a0acf9d3a"
  },
  "kernelspec": {
   "display_name": "Python 3.9.7 64-bit",
   "language": "python",
   "name": "python3"
  },
  "language_info": {
   "codemirror_mode": {
    "name": "ipython",
    "version": 3
   },
   "file_extension": ".py",
   "mimetype": "text/x-python",
   "name": "python",
   "nbconvert_exporter": "python",
   "pygments_lexer": "ipython3",
   "version": "3.9.7"
  },
  "orig_nbformat": 4
 },
 "nbformat": 4,
 "nbformat_minor": 2
}
